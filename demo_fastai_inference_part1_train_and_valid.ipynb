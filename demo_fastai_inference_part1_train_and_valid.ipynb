{
  "nbformat": 4,
  "nbformat_minor": 0,
  "metadata": {
    "colab": {
      "name": "demo-fastai-inference-part1-train-and-valid.ipynb",
      "version": "0.3.2",
      "provenance": [],
      "collapsed_sections": [],
      "include_colab_link": true
    },
    "kernelspec": {
      "name": "python3",
      "display_name": "Python 3"
    },
    "accelerator": "GPU"
  },
  "cells": [
    {
      "cell_type": "markdown",
      "metadata": {
        "id": "view-in-github",
        "colab_type": "text"
      },
      "source": [
        "<a href=\"https://colab.research.google.com/github/wshuyi/demo_inference_ulmfit_fastai/blob/master/demo_fastai_inference_part1_train_and_valid.ipynb\" target=\"_parent\"><img src=\"https://colab.research.google.com/assets/colab-badge.svg\" alt=\"Open In Colab\"/></a>"
      ]
    },
    {
      "cell_type": "code",
      "metadata": {
        "id": "0NQXc-svuAP_",
        "colab_type": "code",
        "colab": {}
      },
      "source": [
        "from fastai.text import *"
      ],
      "execution_count": 0,
      "outputs": []
    },
    {
      "cell_type": "code",
      "metadata": {
        "id": "RvjxWOKluMbz",
        "colab_type": "code",
        "colab": {
          "base_uri": "https://localhost:8080/",
          "height": 344
        },
        "outputId": "13f3c601-3986-4a4d-c08e-41d83113a1f7"
      },
      "source": [
        "!wget https://github.com/wshuyi/my_public_datasets/raw/master/yelp_sample_balanced.zip"
      ],
      "execution_count": 2,
      "outputs": [
        {
          "output_type": "stream",
          "text": [
            "--2019-07-21 21:04:25--  https://github.com/wshuyi/my_public_datasets/raw/master/yelp_sample_balanced.zip\n",
            "Resolving github.com (github.com)... 140.82.114.3\n",
            "Connecting to github.com (github.com)|140.82.114.3|:443... connected.\n",
            "HTTP request sent, awaiting response... 302 Found\n",
            "Location: https://raw.githubusercontent.com/wshuyi/my_public_datasets/master/yelp_sample_balanced.zip [following]\n",
            "--2019-07-21 21:04:25--  https://raw.githubusercontent.com/wshuyi/my_public_datasets/master/yelp_sample_balanced.zip\n",
            "Resolving raw.githubusercontent.com (raw.githubusercontent.com)... 151.101.0.133, 151.101.64.133, 151.101.128.133, ...\n",
            "Connecting to raw.githubusercontent.com (raw.githubusercontent.com)|151.101.0.133|:443... connected.\n",
            "HTTP request sent, awaiting response... 200 OK\n",
            "Length: 2899278 (2.8M) [application/zip]\n",
            "Saving to: ‘yelp_sample_balanced.zip’\n",
            "\n",
            "yelp_sample_balance 100%[===================>]   2.76M  --.-KB/s    in 0.09s   \n",
            "\n",
            "2019-07-21 21:04:26 (30.7 MB/s) - ‘yelp_sample_balanced.zip’ saved [2899278/2899278]\n",
            "\n"
          ],
          "name": "stdout"
        }
      ]
    },
    {
      "cell_type": "code",
      "metadata": {
        "id": "2Cr6zLkfuOPd",
        "colab_type": "code",
        "colab": {
          "base_uri": "https://localhost:8080/",
          "height": 113
        },
        "outputId": "881c840f-98f4-469a-df16-3e445c502890"
      },
      "source": [
        "!unzip yelp_sample_balanced.zip"
      ],
      "execution_count": 3,
      "outputs": [
        {
          "output_type": "stream",
          "text": [
            "Archive:  yelp_sample_balanced.zip\n",
            "   creating: yelp_sample_balanced/\n",
            "  inflating: yelp_sample_balanced/valid.csv  \n",
            "  inflating: yelp_sample_balanced/test.csv  \n",
            "  inflating: yelp_sample_balanced/train.csv  \n"
          ],
          "name": "stdout"
        }
      ]
    },
    {
      "cell_type": "code",
      "metadata": {
        "id": "4wLNTvoHuQUl",
        "colab_type": "code",
        "colab": {}
      },
      "source": [
        "path = Path(\"yelp_sample_balanced/\")"
      ],
      "execution_count": 0,
      "outputs": []
    },
    {
      "cell_type": "code",
      "metadata": {
        "id": "ki17Ft3Mu1tJ",
        "colab_type": "code",
        "colab": {
          "base_uri": "https://localhost:8080/",
          "height": 195
        },
        "outputId": "8d09be82-b8b4-4ee0-ba9b-65dbfce9b170"
      },
      "source": [
        "train = pd.read_csv(path/\"train.csv\"); train.head()"
      ],
      "execution_count": 5,
      "outputs": [
        {
          "output_type": "execute_result",
          "data": {
            "text/html": [
              "<div>\n",
              "<style scoped>\n",
              "    .dataframe tbody tr th:only-of-type {\n",
              "        vertical-align: middle;\n",
              "    }\n",
              "\n",
              "    .dataframe tbody tr th {\n",
              "        vertical-align: top;\n",
              "    }\n",
              "\n",
              "    .dataframe thead th {\n",
              "        text-align: right;\n",
              "    }\n",
              "</style>\n",
              "<table border=\"1\" class=\"dataframe\">\n",
              "  <thead>\n",
              "    <tr style=\"text-align: right;\">\n",
              "      <th></th>\n",
              "      <th>label</th>\n",
              "      <th>text</th>\n",
              "    </tr>\n",
              "  </thead>\n",
              "  <tbody>\n",
              "    <tr>\n",
              "      <th>0</th>\n",
              "      <td>1</td>\n",
              "      <td>Stopped by here because I was staying at THEho...</td>\n",
              "    </tr>\n",
              "    <tr>\n",
              "      <th>1</th>\n",
              "      <td>0</td>\n",
              "      <td>Solid food but the service is lacking.\\n\\nWe w...</td>\n",
              "    </tr>\n",
              "    <tr>\n",
              "      <th>2</th>\n",
              "      <td>1</td>\n",
              "      <td>I won comped tickets to see this show from ESP...</td>\n",
              "    </tr>\n",
              "    <tr>\n",
              "      <th>3</th>\n",
              "      <td>0</td>\n",
              "      <td>I truly went with high expectations. I love BB...</td>\n",
              "    </tr>\n",
              "    <tr>\n",
              "      <th>4</th>\n",
              "      <td>0</td>\n",
              "      <td>it simply sucks!\\n\\ni remember the place selli...</td>\n",
              "    </tr>\n",
              "  </tbody>\n",
              "</table>\n",
              "</div>"
            ],
            "text/plain": [
              "   label                                               text\n",
              "0      1  Stopped by here because I was staying at THEho...\n",
              "1      0  Solid food but the service is lacking.\\n\\nWe w...\n",
              "2      1  I won comped tickets to see this show from ESP...\n",
              "3      0  I truly went with high expectations. I love BB...\n",
              "4      0  it simply sucks!\\n\\ni remember the place selli..."
            ]
          },
          "metadata": {
            "tags": []
          },
          "execution_count": 5
        }
      ]
    },
    {
      "cell_type": "code",
      "metadata": {
        "id": "ZyYbzJOJxdiC",
        "colab_type": "code",
        "colab": {
          "base_uri": "https://localhost:8080/",
          "height": 56
        },
        "outputId": "8c26fa07-2929-450f-a0a4-f12b48fc8d42"
      },
      "source": [
        "print(train.iloc[0, 1])"
      ],
      "execution_count": 6,
      "outputs": [
        {
          "output_type": "stream",
          "text": [
            "Stopped by here because I was staying at THEhotel@Mandalay & needed food in mah belly before going out for a night of clubbing ! Wasn't expecting much but left pleasantly surprised.\\n\\nI got a Buffalo Burger w/ sprouts & avocado -- might as well try something different right ? I was apprehensive at first but WOW my mind was blown! Tender, juicy and came in a really fat patty mmhmmmm. They have a pretty large selection so if you're indecisive you're kinda screwed. Since it's a burger 'bar' you can build your own  burger & customize what you put on it, and they had a pretty good variety of choices.. including truffles or FOIE GRAS if you're feeling fancy!\\n\\nTheir sweet potato fries & fat fries were pretty good, but he winner of the night was the mound of ZUCCHINI FRIES ! I was setting myself up for a heart attack but it's Vegas, baby and I didn't care !\\n\\nThey also have a GREAT beer & wine selection, our table got the chimay & fruli  & they were both delicious ! I prefer the chimay though.\\n\\nAt the end of the meal a nice lady asked to take our picture for us, then printed it out in keychains as a souvenir (..for FREE)  ! I thought that was a really cute touch and showed their customer service is a priority.\n"
          ],
          "name": "stdout"
        }
      ]
    },
    {
      "cell_type": "code",
      "metadata": {
        "id": "rKq05Wuou7Sn",
        "colab_type": "code",
        "colab": {}
      },
      "source": [
        "valid = pd.read_csv(path/\"valid.csv\")\n",
        "test = pd.read_csv(path/\"test.csv\")"
      ],
      "execution_count": 0,
      "outputs": []
    },
    {
      "cell_type": "code",
      "metadata": {
        "id": "vKGYrZMLvA2v",
        "colab_type": "code",
        "colab": {
          "base_uri": "https://localhost:8080/",
          "height": 36
        },
        "outputId": "e651824a-fd4e-4197-d810-ed5d721b895d"
      },
      "source": [
        "len(train)"
      ],
      "execution_count": 8,
      "outputs": [
        {
          "output_type": "execute_result",
          "data": {
            "text/plain": [
              "6000"
            ]
          },
          "metadata": {
            "tags": []
          },
          "execution_count": 8
        }
      ]
    },
    {
      "cell_type": "code",
      "metadata": {
        "id": "uV-wEeycvCNN",
        "colab_type": "code",
        "colab": {
          "base_uri": "https://localhost:8080/",
          "height": 36
        },
        "outputId": "5911f0f2-5fde-4c8b-e446-5913479cf04f"
      },
      "source": [
        "len(valid)"
      ],
      "execution_count": 9,
      "outputs": [
        {
          "output_type": "execute_result",
          "data": {
            "text/plain": [
              "2000"
            ]
          },
          "metadata": {
            "tags": []
          },
          "execution_count": 9
        }
      ]
    },
    {
      "cell_type": "code",
      "metadata": {
        "id": "WibcIRmkvDLP",
        "colab_type": "code",
        "colab": {
          "base_uri": "https://localhost:8080/",
          "height": 36
        },
        "outputId": "3c1b0cf0-fffa-4ad4-9578-3bb658d6781c"
      },
      "source": [
        "len(test)"
      ],
      "execution_count": 10,
      "outputs": [
        {
          "output_type": "execute_result",
          "data": {
            "text/plain": [
              "2000"
            ]
          },
          "metadata": {
            "tags": []
          },
          "execution_count": 10
        }
      ]
    },
    {
      "cell_type": "code",
      "metadata": {
        "id": "rHeFUxCJuUjC",
        "colab_type": "code",
        "colab": {}
      },
      "source": [
        "data_lm = TextLMDataBunch.from_df(path, train, valid, test)"
      ],
      "execution_count": 0,
      "outputs": []
    },
    {
      "cell_type": "code",
      "metadata": {
        "id": "wJYY0Nf6vPmk",
        "colab_type": "code",
        "colab": {
          "base_uri": "https://localhost:8080/",
          "height": 651
        },
        "outputId": "9cb76893-2ce2-4c83-f39f-94f20dfdec47"
      },
      "source": [
        "data_lm.train_ds"
      ],
      "execution_count": 12,
      "outputs": [
        {
          "output_type": "execute_result",
          "data": {
            "text/plain": [
              "LabelList (6000 items)\n",
              "x: LMTextList\n",
              "xxbos xxmaj stopped by here because i was staying at xxunk & needed food in mah belly before going out for a night of clubbing ! xxmaj was n't expecting much but left pleasantly surprised . \n",
              " \n",
              "  i got a xxmaj buffalo xxmaj burger w / sprouts & avocado -- might as well try something different right ? i was xxunk at first but xxup wow my mind was blown ! xxmaj tender , juicy and came in a really fat patty xxunk xxrep 4 m . xxmaj they have a pretty large selection so if you 're xxunk you 're kinda screwed . xxmaj since it 's a burger ' bar ' you can build your own burger & customize what you put on it , and they had a pretty good variety of choices .. including truffles or xxup foie xxup gras if you 're feeling fancy ! \n",
              " \n",
              "  xxmaj their sweet potato fries & fat fries were pretty good , but he winner of the night was the mound of xxup zucchini xxup fries ! i was setting myself up for a heart attack but it 's xxmaj vegas , baby and i did n't care ! \n",
              " \n",
              "  xxmaj they also have a xxup great beer & wine selection , our table got the chimay & xxunk & they were both delicious ! i prefer the chimay though . \n",
              " \n",
              "  xxmaj at the end of the meal a nice lady asked to take our picture for us , then printed it out in xxunk as a souvenir ( .. for xxup free ) ! i thought that was a really cute touch and showed their customer service is a priority .,xxbos xxmaj solid food but the service is lacking . \n",
              " \n",
              "  xxmaj we were sat quickly and our server greeted us in a timely manner . xxmaj she was very nice , but not efficient at her job . xxmaj it was far too long between visits from her and she had to make far too many trips to the table to get anything done . \n",
              " \n",
              "  xxmaj the bread they bring out before the meals is tasty and hot . xxmaj it has good flavor on its own , but is even better with a little olive oil and vinegar . xxmaj for my meal i ordered the xxmaj penne with xxmaj four xxmaj cheese xxmaj sauce and xxmaj meatballs . xxmaj the sauce had very good flavor as did the meatballs . xxmaj the pasta was a little over cooked , but not too bad . \n",
              " \n",
              "  xxmaj if they can figure out the service aspect this is an ok place to eat . xxmaj it took us far too long to eat with a normal size group and basic orders . xxmaj the food is priced inline with what you would expect from similar joints .,xxbos i won comped tickets to see this show from xxup espn 1100 , so the price was already a good deal . \n",
              " \n",
              "  xxmaj the show started out with a xxup dj warming up the crowd , he played a good variety of songs that had people singing and xxunk along , he ended his set with the xxup evolution xxup of xxup dance . \n",
              " \n",
              "  xxmaj then it was time for xxmaj terry , now i will say i have seen several impersonators and several xxunk but this is the first time i have even seen a combination of both . xxmaj the show was pretty rapid fire with about 6 different xxunk plus xxmaj terry doing a few stand alone bits and songs , and a great part where he takes someone out of the crowd . \n",
              " \n",
              "  i have to admit it was more singing than i expected , but he puts on one hell of a show . xxmaj there were a few times when you forget that it 's him singing all of the parts , and to make a xxunk sing an almost dead on song while they do their xxunk of a xxunk is insane . i do n't know if i would ever pay full face for a ticket to his show , but i am glad i got a chance to see it . \n",
              " \n",
              "  xxmaj it was pretty much xxunk on the dot so it leaves enough time to still have a night out after the show . xxmaj he was also really humble , and i do n't think it was the fake xxunk that some celebrities have , he genuinely seemed to be having a great time doing something he loved . xxmaj he let people take as many pics and xxunk as they wanted , seemed to go out of his way to make sure that everyone had a great time , and waited in the gift shop to personally take photos and give xxunk with all that wanted them , and all around seems like a nice guy . xxmaj if you want a good fun show , i 'd check it out , trust me you could do a lot worse ! ! !,xxbos i truly went with high expectations . i love xxup bbq , work at a restaurant with fantastic xxup bbq , and had heard wonderful things . xxmaj the atmosphere seemed great , however , the girl working was rude , the water tasted weird , and , overall , i was unimpressed with the xxup bbq . i truly support small , local businesses such as this one , however , the xxup bbq sauce had no flavor - it was simply spicy without taste - and the pit beans tasted a lot like burnt beef . xxmaj from a restaurant perspective , i wish they would have a sweeter , more tasty xxup bbq sauce , more durable buns for the pulled pork sandwiches , and nicer customer service . i may go back and try it again at some point , but , overall , i 'm sad to say i was disappointed .,xxbos it simply sucks ! \n",
              " \n",
              "  i remember the place selling discounted / clearance shoes , mainly running shoes ( nike , xxunk , xxunk , etc . ) and they had deals like 2 for 1 or something to that effect . and it was awesome especially when you were still in school and we did n't have little burgundy or any other kind of shoe stores . you 'd go with friends to share those awesome deals . you know , not having enough for 2 pair of shoes so you bring a friend and end up paying less than you would normally . \n",
              " \n",
              "  then , do n't know when , it became a pajar warehouse offering discounted old seasons boots and shoes . it sounds great as pajar is up there with xxunk ( well , in terms of popularity at least ) but this place , its simply ugh .. it still have the warehouse feel , i mean , its a warehouse but their selection , its worst than what you 'd find at no name shoe brand stores . and price wise , the discounts are quite xxunk . service ai n't great . it smells weird . its a xxunk of a place . it feels like you 're stepping into a flea market without finding any treasure . its quite an xxunk for the neighborhood . and quite frankly , the only reason one would step in is in hope of finding something even though , the probability of leaving empty handed is extremely high !\n",
              "y: LMLabelList\n",
              ",,,,\n",
              "Path: yelp_sample_balanced"
            ]
          },
          "metadata": {
            "tags": []
          },
          "execution_count": 12
        }
      ]
    },
    {
      "cell_type": "code",
      "metadata": {
        "id": "HW9od0g1vdMu",
        "colab_type": "code",
        "colab": {}
      },
      "source": [
        "data_clas = TextClasDataBunch.from_df(path, train, valid, test, vocab=data_lm.train_ds.vocab, bs=32)"
      ],
      "execution_count": 0,
      "outputs": []
    },
    {
      "cell_type": "code",
      "metadata": {
        "id": "Ai3g7VoXHyiC",
        "colab_type": "code",
        "colab": {}
      },
      "source": [
        "data_clas.save('data_clas_export.pkl')"
      ],
      "execution_count": 0,
      "outputs": []
    },
    {
      "cell_type": "code",
      "metadata": {
        "id": "OJ8wVSXAvo4j",
        "colab_type": "code",
        "colab": {
          "base_uri": "https://localhost:8080/",
          "height": 77
        },
        "outputId": "de4ff2f1-db19-4b51-f448-b10b5c85ca78"
      },
      "source": [
        "learn = language_model_learner(data_lm, AWD_LSTM, drop_mult=0.5)\n",
        "learn.fit_one_cycle(1, 1e-2)"
      ],
      "execution_count": 15,
      "outputs": [
        {
          "output_type": "display_data",
          "data": {
            "text/html": [
              "<table border=\"1\" class=\"dataframe\">\n",
              "  <thead>\n",
              "    <tr style=\"text-align: left;\">\n",
              "      <th>epoch</th>\n",
              "      <th>train_loss</th>\n",
              "      <th>valid_loss</th>\n",
              "      <th>accuracy</th>\n",
              "      <th>time</th>\n",
              "    </tr>\n",
              "  </thead>\n",
              "  <tbody>\n",
              "    <tr>\n",
              "      <td>0</td>\n",
              "      <td>4.247279</td>\n",
              "      <td>3.964836</td>\n",
              "      <td>0.269315</td>\n",
              "      <td>01:34</td>\n",
              "    </tr>\n",
              "  </tbody>\n",
              "</table>"
            ],
            "text/plain": [
              "<IPython.core.display.HTML object>"
            ]
          },
          "metadata": {
            "tags": []
          }
        }
      ]
    },
    {
      "cell_type": "code",
      "metadata": {
        "id": "26gIqkP4vysp",
        "colab_type": "code",
        "colab": {
          "base_uri": "https://localhost:8080/",
          "height": 77
        },
        "outputId": "b5c884d5-82e8-4940-873c-3e74c8e5bcac"
      },
      "source": [
        "learn.unfreeze()\n",
        "learn.fit_one_cycle(1, 1e-3)"
      ],
      "execution_count": 16,
      "outputs": [
        {
          "output_type": "display_data",
          "data": {
            "text/html": [
              "<table border=\"1\" class=\"dataframe\">\n",
              "  <thead>\n",
              "    <tr style=\"text-align: left;\">\n",
              "      <th>epoch</th>\n",
              "      <th>train_loss</th>\n",
              "      <th>valid_loss</th>\n",
              "      <th>accuracy</th>\n",
              "      <th>time</th>\n",
              "    </tr>\n",
              "  </thead>\n",
              "  <tbody>\n",
              "    <tr>\n",
              "      <td>0</td>\n",
              "      <td>3.890546</td>\n",
              "      <td>3.814734</td>\n",
              "      <td>0.286642</td>\n",
              "      <td>01:55</td>\n",
              "    </tr>\n",
              "  </tbody>\n",
              "</table>"
            ],
            "text/plain": [
              "<IPython.core.display.HTML object>"
            ]
          },
          "metadata": {
            "tags": []
          }
        }
      ]
    },
    {
      "cell_type": "code",
      "metadata": {
        "id": "AlG7ZYDBwW8X",
        "colab_type": "code",
        "colab": {
          "base_uri": "https://localhost:8080/",
          "height": 36
        },
        "outputId": "198193a9-02d9-457b-904f-82edcd35829b"
      },
      "source": [
        "learn.predict(\"This is a review about\", n_words=10)"
      ],
      "execution_count": 17,
      "outputs": [
        {
          "output_type": "execute_result",
          "data": {
            "text/plain": [
              "'This is a review about my business or business . We had a breakfast'"
            ]
          },
          "metadata": {
            "tags": []
          },
          "execution_count": 17
        }
      ]
    },
    {
      "cell_type": "code",
      "metadata": {
        "id": "tsM8chRWws2X",
        "colab_type": "code",
        "colab": {}
      },
      "source": [
        "learn.save_encoder('ft_enc')"
      ],
      "execution_count": 0,
      "outputs": []
    },
    {
      "cell_type": "code",
      "metadata": {
        "id": "5s172nrXwx7W",
        "colab_type": "code",
        "colab": {}
      },
      "source": [
        "learn = text_classifier_learner(data_clas, AWD_LSTM, drop_mult=0.5)\n",
        "learn.load_encoder('ft_enc')"
      ],
      "execution_count": 0,
      "outputs": []
    },
    {
      "cell_type": "code",
      "metadata": {
        "id": "pFIDrwhjw1CG",
        "colab_type": "code",
        "colab": {
          "base_uri": "https://localhost:8080/",
          "height": 498
        },
        "outputId": "b05bbadc-e2a6-4ad2-cc11-21bab081bfb0"
      },
      "source": [
        "data_clas.show_batch()"
      ],
      "execution_count": 20,
      "outputs": [
        {
          "output_type": "display_data",
          "data": {
            "text/html": [
              "<table border=\"1\" class=\"dataframe\">\n",
              "  <thead>\n",
              "    <tr style=\"text-align: right;\">\n",
              "      <th>text</th>\n",
              "      <th>target</th>\n",
              "    </tr>\n",
              "  </thead>\n",
              "  <tbody>\n",
              "    <tr>\n",
              "      <td>xxbos xxup avoid xxup xxunk xxup that xxup works xxup at xxup the xxup body xxup shop ! xxup just xxup dont xxup go xxup there . xxup you xxup will xxup hate xxup yourself xxup if xxup you xxup use xxup them ! xxup just xxup dont ! \\n \\n  xxmaj insurance adjuster from xxmaj farmers ( our insurance company ) came to look at our car and</td>\n",
              "      <td>0</td>\n",
              "    </tr>\n",
              "    <tr>\n",
              "      <td>xxbos xxmaj memorial xxmaj day weekend 2013 - xxmaj aoki / xxmaj deadmau5 \\n \\n  xxmaj pre - sale tickets male $ 100 / xxmaj female $ 40 \\n \\n  i had high hopes for xxmaj hakkasan . i went with my girlfriend and we were disappointed with everything except the music . xxmaj steve xxmaj aoki and xxmaj deadmau5 were the only thing that saved the night</td>\n",
              "      <td>0</td>\n",
              "    </tr>\n",
              "    <tr>\n",
              "      <td>xxbos xxmaj the xxmaj wynn is a nice property , a little too far down xxmaj the xxmaj strip to be considered a prime location . xxmaj having said that , it will change in time . xxmaj if xxmaj echelon xxmaj place ( a xxmaj boyd xxmaj gaming project ) and some of the other projects that were once xxunk for development come to xxunk , xxmaj wynn will</td>\n",
              "      <td>1</td>\n",
              "    </tr>\n",
              "    <tr>\n",
              "      <td>xxbos xxmaj went for my birthday , again lol \\n \\n  xxmaj they opened recently , it 's an all you can eat korean bbq place . xxmaj the service is a bit xxunk so expect to wait a bit so do n't go if you 're in a rush . \\n \\n  xxmaj when we were there they had some problems with the ventilation , so expect</td>\n",
              "      <td>1</td>\n",
              "    </tr>\n",
              "    <tr>\n",
              "      <td>xxbos i 've had xxmaj direct xxup tv for about 4 years . i am very , xxup very disappointed in their services . xxmaj when we first got them , we got an amazing deal , so we really did n't want to let it go . xxmaj however , when we first got them we were signed on to a 2 year contract with them . \\n \\n</td>\n",
              "      <td>0</td>\n",
              "    </tr>\n",
              "  </tbody>\n",
              "</table>"
            ],
            "text/plain": [
              "<IPython.core.display.HTML object>"
            ]
          },
          "metadata": {
            "tags": []
          }
        }
      ]
    },
    {
      "cell_type": "code",
      "metadata": {
        "id": "uUF9aDG5w2tq",
        "colab_type": "code",
        "colab": {
          "base_uri": "https://localhost:8080/",
          "height": 77
        },
        "outputId": "de98bb31-7f88-49cb-86fc-d0f8a601462f"
      },
      "source": [
        "learn.fit_one_cycle(1, 1e-2)"
      ],
      "execution_count": 21,
      "outputs": [
        {
          "output_type": "display_data",
          "data": {
            "text/html": [
              "<table border=\"1\" class=\"dataframe\">\n",
              "  <thead>\n",
              "    <tr style=\"text-align: left;\">\n",
              "      <th>epoch</th>\n",
              "      <th>train_loss</th>\n",
              "      <th>valid_loss</th>\n",
              "      <th>accuracy</th>\n",
              "      <th>time</th>\n",
              "    </tr>\n",
              "  </thead>\n",
              "  <tbody>\n",
              "    <tr>\n",
              "      <td>0</td>\n",
              "      <td>0.369455</td>\n",
              "      <td>0.249212</td>\n",
              "      <td>0.904500</td>\n",
              "      <td>01:25</td>\n",
              "    </tr>\n",
              "  </tbody>\n",
              "</table>"
            ],
            "text/plain": [
              "<IPython.core.display.HTML object>"
            ]
          },
          "metadata": {
            "tags": []
          }
        }
      ]
    },
    {
      "cell_type": "code",
      "metadata": {
        "id": "e3SCjuFTxAhQ",
        "colab_type": "code",
        "colab": {
          "base_uri": "https://localhost:8080/",
          "height": 77
        },
        "outputId": "14ef3d4f-0de7-4498-9561-79066ba5673a"
      },
      "source": [
        "learn.freeze_to(-2)\n",
        "learn.fit_one_cycle(1, slice(5e-3/2., 5e-3))"
      ],
      "execution_count": 22,
      "outputs": [
        {
          "output_type": "display_data",
          "data": {
            "text/html": [
              "<table border=\"1\" class=\"dataframe\">\n",
              "  <thead>\n",
              "    <tr style=\"text-align: left;\">\n",
              "      <th>epoch</th>\n",
              "      <th>train_loss</th>\n",
              "      <th>valid_loss</th>\n",
              "      <th>accuracy</th>\n",
              "      <th>time</th>\n",
              "    </tr>\n",
              "  </thead>\n",
              "  <tbody>\n",
              "    <tr>\n",
              "      <td>0</td>\n",
              "      <td>0.314521</td>\n",
              "      <td>0.207819</td>\n",
              "      <td>0.925500</td>\n",
              "      <td>01:18</td>\n",
              "    </tr>\n",
              "  </tbody>\n",
              "</table>"
            ],
            "text/plain": [
              "<IPython.core.display.HTML object>"
            ]
          },
          "metadata": {
            "tags": []
          }
        }
      ]
    },
    {
      "cell_type": "code",
      "metadata": {
        "id": "UWfETryXxO85",
        "colab_type": "code",
        "colab": {
          "base_uri": "https://localhost:8080/",
          "height": 77
        },
        "outputId": "ee649b23-c33e-45d0-c7cf-1ba0441f72f2"
      },
      "source": [
        "learn.unfreeze()\n",
        "learn.fit_one_cycle(1, slice(2e-3/100, 2e-3))"
      ],
      "execution_count": 23,
      "outputs": [
        {
          "output_type": "display_data",
          "data": {
            "text/html": [
              "<table border=\"1\" class=\"dataframe\">\n",
              "  <thead>\n",
              "    <tr style=\"text-align: left;\">\n",
              "      <th>epoch</th>\n",
              "      <th>train_loss</th>\n",
              "      <th>valid_loss</th>\n",
              "      <th>accuracy</th>\n",
              "      <th>time</th>\n",
              "    </tr>\n",
              "  </thead>\n",
              "  <tbody>\n",
              "    <tr>\n",
              "      <td>0</td>\n",
              "      <td>0.263891</td>\n",
              "      <td>0.184232</td>\n",
              "      <td>0.921500</td>\n",
              "      <td>02:26</td>\n",
              "    </tr>\n",
              "  </tbody>\n",
              "</table>"
            ],
            "text/plain": [
              "<IPython.core.display.HTML object>"
            ]
          },
          "metadata": {
            "tags": []
          }
        }
      ]
    },
    {
      "cell_type": "code",
      "metadata": {
        "id": "UkALCPQ6FCkL",
        "colab_type": "code",
        "colab": {}
      },
      "source": [
        "learn.export(\"model_trained.pkl\")"
      ],
      "execution_count": 0,
      "outputs": []
    },
    {
      "cell_type": "code",
      "metadata": {
        "id": "bUrbEdFz202N",
        "colab_type": "code",
        "colab": {}
      },
      "source": [
        "with open(path/\"test_labels.pkl\", 'wb') as f:\n",
        "  pickle.dump(test.label, f)"
      ],
      "execution_count": 0,
      "outputs": []
    }
  ]
}