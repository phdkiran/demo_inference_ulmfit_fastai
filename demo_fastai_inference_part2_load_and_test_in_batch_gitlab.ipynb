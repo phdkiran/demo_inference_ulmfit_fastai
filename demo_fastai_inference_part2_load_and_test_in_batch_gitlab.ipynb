{
  "nbformat": 4,
  "nbformat_minor": 0,
  "metadata": {
    "colab": {
      "name": "demo-fastai-inference-part2-load-and-test-in-batch-gitlab.ipynb",
      "version": "0.3.2",
      "provenance": [],
      "collapsed_sections": [],
      "include_colab_link": true
    },
    "kernelspec": {
      "name": "python3",
      "display_name": "Python 3"
    },
    "accelerator": "GPU"
  },
  "cells": [
    {
      "cell_type": "markdown",
      "metadata": {
        "id": "view-in-github",
        "colab_type": "text"
      },
      "source": [
        "<a href=\"https://colab.research.google.com/github/wshuyi/demo_inference_ulmfit_fastai/blob/master/demo_fastai_inference_part2_load_and_test_in_batch_gitlab.ipynb\" target=\"_parent\"><img src=\"https://colab.research.google.com/assets/colab-badge.svg\" alt=\"Open In Colab\"/></a>"
      ]
    },
    {
      "cell_type": "code",
      "metadata": {
        "id": "LZBRCZbAicac",
        "colab_type": "code",
        "colab": {}
      },
      "source": [
        "from fastai.text import *"
      ],
      "execution_count": 0,
      "outputs": []
    },
    {
      "cell_type": "code",
      "metadata": {
        "id": "4A6jdHhxaSUC",
        "colab_type": "code",
        "colab": {}
      },
      "source": [
        "!git clone https://gitlab.com/wshuyi/demo_inference_ulmfit_fastai_data.git"
      ],
      "execution_count": 0,
      "outputs": []
    },
    {
      "cell_type": "code",
      "metadata": {
        "id": "0P8ve6ArahOw",
        "colab_type": "code",
        "colab": {}
      },
      "source": [
        "path = Path('demo_inference_ulmfit_fastai_data')"
      ],
      "execution_count": 0,
      "outputs": []
    },
    {
      "cell_type": "code",
      "metadata": {
        "id": "joHG6ufiFRMe",
        "colab_type": "code",
        "colab": {}
      },
      "source": [
        "learn = load_learner(path, \"model_trained.pkl\")"
      ],
      "execution_count": 0,
      "outputs": []
    },
    {
      "cell_type": "code",
      "metadata": {
        "id": "Fa_3HZJH2S6a",
        "colab_type": "code",
        "colab": {}
      },
      "source": [
        "learn"
      ],
      "execution_count": 0,
      "outputs": []
    },
    {
      "cell_type": "code",
      "metadata": {
        "id": "h1g-5z5yE-m-",
        "colab_type": "code",
        "colab": {}
      },
      "source": [
        "learn.data = load_data(path, \"data_clas_export.pkl\")"
      ],
      "execution_count": 0,
      "outputs": []
    },
    {
      "cell_type": "code",
      "metadata": {
        "id": "KDyiU8H_96Ni",
        "colab_type": "code",
        "colab": {}
      },
      "source": [
        "predictions = learn.get_preds(ds_type=DatasetType.Test, ordered=True)"
      ],
      "execution_count": 0,
      "outputs": []
    },
    {
      "cell_type": "code",
      "metadata": {
        "id": "Lm8_Stq60ebk",
        "colab_type": "code",
        "colab": {}
      },
      "source": [
        "predictions"
      ],
      "execution_count": 0,
      "outputs": []
    },
    {
      "cell_type": "code",
      "metadata": {
        "id": "EF-9xlgRBjHI",
        "colab_type": "code",
        "colab": {}
      },
      "source": [
        "preds = []"
      ],
      "execution_count": 0,
      "outputs": []
    },
    {
      "cell_type": "code",
      "metadata": {
        "id": "4wt_Ge8AA-L0",
        "colab_type": "code",
        "colab": {}
      },
      "source": [
        "for item in predictions[0].tolist():\n",
        "  preds.append(int(item[0]<item[1]))"
      ],
      "execution_count": 0,
      "outputs": []
    },
    {
      "cell_type": "code",
      "metadata": {
        "id": "apW-cJ695Qhu",
        "colab_type": "code",
        "colab": {}
      },
      "source": [
        "preds[:5]"
      ],
      "execution_count": 0,
      "outputs": []
    },
    {
      "cell_type": "code",
      "metadata": {
        "id": "X8wAlixL3Khk",
        "colab_type": "code",
        "colab": {}
      },
      "source": [
        "with open(path/\"test_labels.pkl\", 'rb') as f:\n",
        "  labels = pickle.load(f)"
      ],
      "execution_count": 0,
      "outputs": []
    },
    {
      "cell_type": "code",
      "metadata": {
        "id": "-e4-LmHDzxfb",
        "colab_type": "code",
        "colab": {}
      },
      "source": [
        "from sklearn.metrics import classification_report, confusion_matrix"
      ],
      "execution_count": 0,
      "outputs": []
    },
    {
      "cell_type": "code",
      "metadata": {
        "id": "WhUKfgxd0KcW",
        "colab_type": "code",
        "colab": {}
      },
      "source": [
        "print(classification_report(labels, preds))"
      ],
      "execution_count": 0,
      "outputs": []
    },
    {
      "cell_type": "code",
      "metadata": {
        "id": "ChpyecEw0O04",
        "colab_type": "code",
        "colab": {}
      },
      "source": [
        "print(confusion_matrix(labels, preds))"
      ],
      "execution_count": 0,
      "outputs": []
    },
    {
      "cell_type": "code",
      "metadata": {
        "id": "VjrwBL8LC-3s",
        "colab_type": "code",
        "colab": {}
      },
      "source": [
        ""
      ],
      "execution_count": 0,
      "outputs": []
    }
  ]
}